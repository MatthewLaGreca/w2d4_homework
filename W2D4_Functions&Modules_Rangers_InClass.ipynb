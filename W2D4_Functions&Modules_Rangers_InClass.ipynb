{
 "cells": [
  {
   "cell_type": "markdown",
   "metadata": {},
   "source": [
    "# User-Defined Functions & Scoping"
   ]
  },
  {
   "cell_type": "markdown",
   "metadata": {},
   "source": [
    "## Tasks Today:\n",
    "\n",
    "\n",
    "1) Functions <br>\n",
    " &nbsp;&nbsp;&nbsp;&nbsp; a) User-Defined vs. Built-In Functions <br>\n",
    " &nbsp;&nbsp;&nbsp;&nbsp; b) Accepting Parameters <br>\n",
    " &nbsp;&nbsp;&nbsp;&nbsp; c) Default Parameters <br>\n",
    " &nbsp;&nbsp;&nbsp;&nbsp; d) Making an Argument Optional <br>\n",
    " &nbsp;&nbsp;&nbsp;&nbsp; e) Keyword Arguments <br>\n",
    " &nbsp;&nbsp;&nbsp;&nbsp; f) Returning Values <br>\n",
    " &nbsp;&nbsp;&nbsp;&nbsp; g) *args <br>\n",
    " &nbsp;&nbsp;&nbsp;&nbsp; h) Docstring <br>\n",
    " &nbsp;&nbsp;&nbsp;&nbsp; i) Using a User Function in a Loop <br>\n",
    "2) Scope\n",
    "3) Creating more User-Defined functions \n",
    "4) Modules <br>\n",
    " &nbsp;&nbsp;&nbsp;&nbsp; a) Importing Entire Modules <br>\n",
    " &nbsp;&nbsp;&nbsp;&nbsp; b) Importing Methods Only <br>\n",
    " &nbsp;&nbsp;&nbsp;&nbsp; c) Using the 'as' Keyword <br>\n",
    " &nbsp;&nbsp;&nbsp;&nbsp; d) Creating a Module <br>"
   ]
  },
  {
   "cell_type": "markdown",
   "metadata": {},
   "source": [
    "\n",
    "## Functions"
   ]
  },
  {
   "cell_type": "markdown",
   "metadata": {},
   "source": [
    "##### User-Defined vs. Built-In Functions"
   ]
  },
  {
   "cell_type": "code",
   "execution_count": null,
   "metadata": {},
   "outputs": [],
   "source": []
  },
  {
   "cell_type": "markdown",
   "metadata": {},
   "source": [
    "##### Accepting Parameters"
   ]
  },
  {
   "cell_type": "code",
   "execution_count": null,
   "metadata": {
    "scrolled": true
   },
   "outputs": [],
   "source": [
    "# elements passed into a function\n",
    "# variables to hold the place of items our function will act upon\n",
    "# order matters\n",
    "# a parameter can be of any object type (data type)\n",
    "\n"
   ]
  },
  {
   "cell_type": "markdown",
   "metadata": {},
   "source": [
    "##### Default Parameters"
   ]
  },
  {
   "cell_type": "code",
   "execution_count": null,
   "metadata": {},
   "outputs": [],
   "source": [
    "# default parameters must always come after non-default parameters at all times forever and ever...or else\n"
   ]
  },
  {
   "cell_type": "code",
   "execution_count": null,
   "metadata": {},
   "outputs": [],
   "source": [
    "# default parameters must always come after non-default parameters at all times forever and ever...or else\n",
    "\n"
   ]
  },
  {
   "cell_type": "markdown",
   "metadata": {},
   "source": [
    "##### Making an Argument Optional"
   ]
  },
  {
   "cell_type": "code",
   "execution_count": null,
   "metadata": {},
   "outputs": [],
   "source": []
  },
  {
   "cell_type": "markdown",
   "metadata": {},
   "source": [
    "##### Keyword Arguments"
   ]
  },
  {
   "cell_type": "code",
   "execution_count": null,
   "metadata": {},
   "outputs": [],
   "source": [
    "#keyword arguments must follow positional arugments\n"
   ]
  },
  {
   "cell_type": "markdown",
   "metadata": {},
   "source": [
    "# Creating a start, stop, step function"
   ]
  },
  {
   "cell_type": "code",
   "execution_count": 2,
   "metadata": {
    "scrolled": true
   },
   "outputs": [
    {
     "name": "stdout",
     "output_type": "stream",
     "text": [
      "0\n",
      "2\n",
      "4\n",
      "6\n",
      "8\n",
      "[0, 2, 4, 6, 8]\n"
     ]
    }
   ],
   "source": [
    "def my_range(stop, start = 0, step = 1):\n",
    "    my_list = []\n",
    "    for i in range(start, stop, step):\n",
    "        print(i)\n",
    "        my_list.append(i)\n",
    "    return my_list\n",
    "print(my_range(10, step = 2))\n",
    "        # generators: how to have functions return multiple values\n",
    "        "
   ]
  },
  {
   "cell_type": "markdown",
   "metadata": {},
   "source": [
    "##### Returning Values"
   ]
  },
  {
   "cell_type": "code",
   "execution_count": null,
   "metadata": {},
   "outputs": [],
   "source": []
  },
  {
   "cell_type": "markdown",
   "metadata": {},
   "source": [
    "##### *args / **kwargs (keyword arguments)"
   ]
  },
  {
   "cell_type": "code",
   "execution_count": 3,
   "metadata": {},
   "outputs": [
    {
     "name": "stdout",
     "output_type": "stream",
     "text": [
      "These are our positional arguments 1 2\n",
      "These are our *args (5, 7, 8, 10, 20, 25453, 456024560)\n",
      "These are our **kwargs {'person1': 'Jason', 'person2': 'Priscilla', 'person3': 'Leza'}\n"
     ]
    }
   ],
   "source": [
    "#*args, **kwargs\n",
    "# *args stands for arguments and will allow the function to take in any number of arguments\n",
    "# **kwargs stands for key word arguments and will allow the function to take in any number of keyword arguments\n",
    "# if other parameters are present, args and kwarfs must go last\n",
    "\n",
    "def print_args_kwargs(num1, num2, *nums, **people):\n",
    "    print(f'These are our positional arguments {num1} {num2}')\n",
    "    print(f'These are our *args {nums}')\n",
    "    print(f'These are our **kwargs {people}')\n",
    "\n",
    "print_args_kwargs(1,2,5,7,8,10,20,25453,456024560, person1 = 'Jason', person2 = 'Priscilla', person3 = 'Leza')\n"
   ]
  },
  {
   "cell_type": "markdown",
   "metadata": {},
   "source": [
    "##### Docstring"
   ]
  },
  {
   "cell_type": "code",
   "execution_count": 6,
   "metadata": {},
   "outputs": [
    {
     "name": "stdout",
     "output_type": "stream",
     "text": [
      "Jeremy\n",
      "Devante\n",
      "Luis\n",
      "Nico\n",
      "Help on function print_name in module __main__:\n",
      "\n",
      "print_name(arr)\n",
      "    This is a function that takes in an array as an argument \n",
      "    and prints out every item in the array\n",
      "\n"
     ]
    }
   ],
   "source": [
    "# docstrings are a really nice way to leave notes about funciontality in your code\n",
    "# provide instructions\n",
    "def print_name(arr):\n",
    "    \"\"\"\n",
    "    This is a function that takes in an array as an argument \n",
    "    and prints out every item in the array\n",
    "    \"\"\"\n",
    "    for name in arr:\n",
    "        print(name)\n",
    "\n",
    "print_name(['Jeremy','Devante', 'Luis', 'Nico'])\n",
    "help(print_name)"
   ]
  },
  {
   "cell_type": "markdown",
   "metadata": {},
   "source": [
    "##### Using a User Function in a Loop"
   ]
  },
  {
   "cell_type": "code",
   "execution_count": 7,
   "metadata": {},
   "outputs": [
    {
     "name": "stdout",
     "output_type": "stream",
     "text": [
      "What is going on?  hey\n"
     ]
    },
    {
     "name": "stdout",
     "output_type": "stream",
     "text": [
      "I say heeeeeeeeeeeeeeeeeeey hey\n"
     ]
    },
    {
     "name": "stdout",
     "output_type": "stream",
     "text": [
      "Are you ready to quit?  no\n",
      "What is going on?  What's going on!\n"
     ]
    },
    {
     "name": "stdout",
     "output_type": "stream",
     "text": [
      "I say heeeeeeeeeeeeeeeeeeey What's going on!\n"
     ]
    },
    {
     "name": "stdout",
     "output_type": "stream",
     "text": [
      "Are you ready to quit?  q\n"
     ]
    }
   ],
   "source": [
    "def print_input(answer):\n",
    "    print(f\"I say heeeeeeeeeeeeeeeeeeey {answer}\")\n",
    "\n",
    "while True:\n",
    "    ask = input('What is going on? ')\n",
    "    print_input(ask)\n",
    "    response = input('Are you ready to quit? ').lower()\n",
    "    if response in ('yes', 'y', 'quit', 'q', 'please'):\n",
    "        break"
   ]
  },
  {
   "cell_type": "code",
   "execution_count": null,
   "metadata": {
    "scrolled": true
   },
   "outputs": [],
   "source": []
  },
  {
   "cell_type": "code",
   "execution_count": null,
   "metadata": {},
   "outputs": [],
   "source": []
  },
  {
   "cell_type": "markdown",
   "metadata": {},
   "source": [
    "## Function Exercises <br>\n",
    "### Exercise 1\n",
    "<p>Write a function that loops through a list of first_names and a list of last_names, combines the two and return a list of full_names</p>"
   ]
  },
  {
   "cell_type": "code",
   "execution_count": null,
   "metadata": {},
   "outputs": [],
   "source": []
  },
  {
   "cell_type": "code",
   "execution_count": 34,
   "metadata": {},
   "outputs": [
    {
     "name": "stdout",
     "output_type": "stream",
     "text": [
      "['John Smith', 'Evan Smith', 'Jordan Williams', 'Max Bell']\n"
     ]
    }
   ],
   "source": [
    "def full_names(first_names, last_names):\n",
    "    return [(first_names[i] + ' ' + last_names[i]) for i in range(min(len(first_names),len(last_names))) ]\n",
    "        \n",
    "first_name = ['John', 'Evan', 'Jordan', 'Max', \"James\"]\n",
    "last_name = ['Smith', 'Smith', 'Williams', 'Bell']\n",
    "\n",
    "# Output: ['John Smith', 'Evan Smith', 'Jordan Williams', 'Max Bell']\n",
    "print(full_names(first_name, last_name))"
   ]
  },
  {
   "cell_type": "markdown",
   "metadata": {},
   "source": [
    "### Exercise 2\n",
    "Create a function that alters all values in the given list by subtracting 5 and then doubling them."
   ]
  },
  {
   "cell_type": "code",
   "execution_count": 36,
   "metadata": {},
   "outputs": [
    {
     "name": "stdout",
     "output_type": "stream",
     "text": [
      "None\n",
      "[0, 10, 20, 30, -4]\n"
     ]
    }
   ],
   "source": [
    "input_list = [5,10,15,20,3]\n",
    "# output = [0,10,20,30,-4]\n",
    "\n",
    "def minus_5(list):\n",
    "    for i in range(len(list)):\n",
    "        list[i] = (list[i] - 5)*2\n",
    "print(minus_5(input_list))\n",
    "print(input_list)"
   ]
  },
  {
   "cell_type": "markdown",
   "metadata": {},
   "source": [
    "### Exercise 3\n",
    "Create a function that takes in a list of strings and filters out the strings that DO NOT contain vowels. "
   ]
  },
  {
   "cell_type": "code",
   "execution_count": 47,
   "metadata": {},
   "outputs": [
    {
     "name": "stdout",
     "output_type": "stream",
     "text": [
      "['Sheldon', 'Leonard', 'Amy']\n"
     ]
    }
   ],
   "source": [
    "string_list = ['Sheldon','Pnny','Leonard','Hwrd','Rj','Amy','Strt']\n",
    "# output = ['Sheldon','Leonard','Amy']\n",
    "\n",
    "def contains_vowels(list):\n",
    "    removals = []\n",
    "    for string in list:\n",
    "        if 'a' not in string.lower() and 'e' not in string.lower() and 'i' not in string.lower() and 'o' not in string.lower() and 'u' not in string.lower():\n",
    "            removals.append(string)\n",
    "    for string in removals:\n",
    "        if string in list:\n",
    "            list.remove(string)\n",
    "contains_vowels(string_list)\n",
    "print(string_list)"
   ]
  },
  {
   "cell_type": "code",
   "execution_count": null,
   "metadata": {},
   "outputs": [],
   "source": []
  },
  {
   "cell_type": "code",
   "execution_count": null,
   "metadata": {},
   "outputs": [],
   "source": []
  },
  {
   "cell_type": "markdown",
   "metadata": {},
   "source": [
    "### Exercise 4\n",
    "Create a function that accepts a list as a parameter and returns a dictionary containing the list items as it's keys, and the number of times they appear in the list as the values"
   ]
  },
  {
   "cell_type": "code",
   "execution_count": 20,
   "metadata": {},
   "outputs": [
    {
     "data": {
      "text/plain": [
       "{'Harry': 3, 'Hermione': 2, 'Ron': 4, 'Dobby': 1, 'Draco': 1, 'Luna': 1}"
      ]
     },
     "execution_count": 20,
     "metadata": {},
     "output_type": "execute_result"
    }
   ],
   "source": [
    "example_list = [\"Harry\", 'Hermione','Harry','Ron','Dobby','Draco','Luna','Harry','Hermione','Ron','Ron','Ron']\n",
    "\n",
    "def key_counts(names):\n",
    "    dict = {}\n",
    "    for name in names:\n",
    "        if name not in dict.keys():\n",
    "            dict[name] = 1\n",
    "        else:\n",
    "            dict[name] += 1\n",
    "    return dict\n",
    "\n",
    "key_counts(example_list)\n",
    "\n"
   ]
  },
  {
   "cell_type": "markdown",
   "metadata": {},
   "source": [
    "\n",
    "\n",
    "## Scope <br>\n",
    "<p>Scope refers to the ability to access variables, different types of scope include:<br>a) Global<br>b) Function (local)<br>c) Class (local)</p>"
   ]
  },
  {
   "cell_type": "code",
   "execution_count": null,
   "metadata": {},
   "outputs": [],
   "source": [
    "# placement of variable declaration matters\n",
    "\n",
    "\n",
    "print(num1)"
   ]
  },
  {
   "cell_type": "markdown",
   "metadata": {},
   "source": [
    "## Modules"
   ]
  },
  {
   "cell_type": "markdown",
   "metadata": {},
   "source": [
    "##### Importing Entire Modules\n"
   ]
  },
  {
   "cell_type": "code",
   "execution_count": 26,
   "metadata": {},
   "outputs": [
    {
     "name": "stdout",
     "output_type": "stream",
     "text": [
      "3.141592653589793\n"
     ]
    }
   ],
   "source": [
    "## Modules\n",
    "\n",
    "import math #module we have access to in python\n",
    "print(math.pi)\n"
   ]
  },
  {
   "cell_type": "markdown",
   "metadata": {},
   "source": [
    "##### Importing Methods Only"
   ]
  },
  {
   "cell_type": "code",
   "execution_count": null,
   "metadata": {},
   "outputs": [],
   "source": [
    "# from xxx import yyy\n",
    "#from math import floor\n"
   ]
  },
  {
   "cell_type": "markdown",
   "metadata": {},
   "source": [
    "##### Using the 'as' Keyword"
   ]
  },
  {
   "cell_type": "code",
   "execution_count": null,
   "metadata": {},
   "outputs": [],
   "source": [
    "# from xxx import yyy as z\n"
   ]
  },
  {
   "cell_type": "markdown",
   "metadata": {},
   "source": [
    "##### Creating a Module"
   ]
  },
  {
   "cell_type": "code",
   "execution_count": null,
   "metadata": {},
   "outputs": [],
   "source": [
    "from module import printName as pn\n",
    "\n"
   ]
  },
  {
   "cell_type": "code",
   "execution_count": null,
   "metadata": {},
   "outputs": [],
   "source": []
  },
  {
   "cell_type": "code",
   "execution_count": null,
   "metadata": {},
   "outputs": [],
   "source": []
  },
  {
   "cell_type": "markdown",
   "metadata": {},
   "source": [
    "# Homework Exercises"
   ]
  },
  {
   "cell_type": "markdown",
   "metadata": {},
   "source": [
    "### 1) Create a Module in VS Code and Import It into jupyter notebook <br>\n",
    "<p><b>Module should have the following capabilities:</b><br><br>\n",
    "1a) Has a function to calculate the square footage of a house <br>\n",
    "    <b>Reminder of Formula: Length X Width == Area</b><br>\n",
    "        <hr>\n",
    "1b) Has a function to calculate the circumference of a circle 2 Pi r <br><br>\n",
    "<b>Program in Jupyter Notebook should take in user input and use imported functions to calculate a circle's circumference or a houses square footage</b>\n",
    "</p>"
   ]
  },
  {
   "cell_type": "code",
   "execution_count": 56,
   "metadata": {},
   "outputs": [
    {
     "name": "stdout",
     "output_type": "stream",
     "text": [
      "Thank you for playing!\n"
     ]
    }
   ],
   "source": [
    "from module import square_footage as sf, circumference as circ\n",
    "from IPython.display import clear_output\n",
    "\n",
    "while True:\n",
    "    task = input(\"What would you like to do? type 'c' for \\\n",
    "circuference, 'a' for square footage or 'q' to quit: \").lower()\n",
    "    if task != 'a' and task != 'c' and task != 'q':\n",
    "        clear_output(wait=False)\n",
    "        print('Invalid input')\n",
    "        continue\n",
    "    if task == 'a':\n",
    "        clear_output(wait=False)\n",
    "        try:\n",
    "            length = float(input('What is the unitless length of the house? '))\n",
    "            width = float(input('What is the unitless width of the house? '))\n",
    "            print(f' The area of that house is {sf(length,width)}')\n",
    "        except:\n",
    "            print(f'Invalid input, maybe you include units in the measurement?')\n",
    "    elif task == 'c':\n",
    "        clear_output(wait=False)\n",
    "        try:\n",
    "            radius = float(input('What is the unitless radius of the circle? '))\n",
    "            print(f' The circuference of that circle is {circ(radius)}')\n",
    "        except:\n",
    "            print(f'Invalid input, maybe you included units in the measurement?')\n",
    "    else:\n",
    "        clear_output(wait=False)\n",
    "        print('Thank you for playing!')\n",
    "        break"
   ]
  },
  {
   "cell_type": "markdown",
   "metadata": {},
   "source": [
    "### 2) Build a Shopping Cart Function <br>\n",
    "<p><b>You can use either lists or dictionaries. The program should have the following capabilities:</b><br><br>\n",
    "1) Takes in input <br>\n",
    "2) Stores user input into a dictionary or list <br>\n",
    "3) The User can add or delete items <br>\n",
    "4) The User can see current shopping list <br>\n",
    "5) The program Loops until user 'quits' <br>\n",
    "6) Upon quiting the program, print out all items in the user's list <br>\n",
    "</p>"
   ]
  },
  {
   "cell_type": "code",
   "execution_count": null,
   "metadata": {},
   "outputs": [
    {
     "name": "stdout",
     "output_type": "stream",
     "text": [
      "What would you like to delete?  pie\n"
     ]
    }
   ],
   "source": [
    "from IPython.display import clear_output\n",
    "\n",
    "def show_list(cart):\n",
    "\n",
    "    \"\"\"This function shows the current contents and totals of the list\"\"\"\n",
    "\n",
    "    # initiallize sums before starting the list\n",
    "    r_total = 0\n",
    "    g_total = 0\n",
    "    print('Here is your shopping list \\n')\n",
    "\n",
    "    # loop through the dictionary and print out the items, their cost \n",
    "    # and the quantity by retailer before giving out a retailer total and finally a grand total\n",
    "    for key in cart.keys():\n",
    "        print(f\"{key}'s list: \\n\")\n",
    "        for value in cart[key]:\n",
    "            print(f\"item: {value} costs ${cart[key][value]['cost']} and you want {cart[key][value]['quantity']} of them\")\n",
    "            r_total += cart[key][value]['cost']*cart[key][value]['quantity']\n",
    "        print(f'\\nYour {key} total is ${r_total}\\n')\n",
    "        g_total += r_total\n",
    "    print(f'\\nYour grand total is ${g_total}\\n')\n",
    "\n",
    "# Ask the user four bits of input: Do you want to : Show/Add/Delete or Quit?\n",
    "def shopping_buddy():\n",
    "\n",
    "    \"\"\"This is a simple shopping list function, where you can add, delete and \\\n",
    "          show your items in your shopping list before quitting and printing \\\n",
    "            the final list\"\"\"\n",
    "    \n",
    "    cart = {} #initializing the cart\n",
    "    print(\"Hi, welcome to Shopping Buddy!  Let's build you a shopping list!\")\n",
    "\n",
    "    # main program\n",
    "    while True:\n",
    "        var = input(\"What would you like to do with your shopping cart: Show/Add/Delete or Quit? \")\n",
    "\n",
    "        #user chose to quit, so now we print out the final list before thanking the user\n",
    "        if var.lower()== 'quit':\n",
    "            clear_output(wait=False)\n",
    "            print('Thank you for using Shopping Buddy!')\n",
    "\n",
    "            # let's show the list one more time before quitting\n",
    "            show_list(cart)\n",
    "            break\n",
    "\n",
    "        #user chose an invalid option, so we let them know\n",
    "        elif var.lower() !='show' and var.lower() !='add' and var.lower() != 'delete':\n",
    "            print('Invalid option')\n",
    "        \n",
    "        #user chose a valid option that wasn't quit, so it's now time to either add, show or delete\n",
    "        else:\n",
    "\n",
    "            #user chose to show the current shopping list\n",
    "            if var.lower() == 'show':\n",
    "\n",
    "                # show the list\n",
    "                show_list(cart)\n",
    "                \n",
    "            #user chose to add something to the shopping list\n",
    "            elif var.lower() == 'add':\n",
    "                try:\n",
    "                    clear_output(wait=False)\n",
    "\n",
    "                    # first, we ask the user what item they want to buy from what retailer\n",
    "                    what = input(\"What would you like to add to your cart? \").lower()\n",
    "                    where = input(f'Where would you like to buy {what} from? ').title()\n",
    "\n",
    "                    # checking to see if that item is already in the cart from that retailer\n",
    "                    if where in cart.keys():\n",
    "                        if what.lower() in cart[where].keys():\n",
    "\n",
    "                            # and if it is we want to see if they want to update the quantity\n",
    "                            update_answer = input(f'{what} is already in your cart at {where}.  Would you like to update the quantity? (y/n) ')\n",
    "                            if update_answer.lower() == 'y':\n",
    "                                try:\n",
    "\n",
    "                                    #telling the user what the quantity is currently\n",
    "                                    update_qty = int(input(f\"What would you like to change it to?\\\n",
    " The quantity for {what} is currently {cart[where][what]['quantity']}\"))\n",
    "                                    \n",
    "                                    #if the user enters a value less than 1, we delete the item from that retailer\n",
    "                                    if update_qty < 1:\n",
    "                                        del cart[where][what]\n",
    "                                        print(f'I have deleted \"{what}\" from {where} from your cart ')\n",
    "\n",
    "                                        #if the retailer has no items, we get rid of the retailer\n",
    "                                        if cart[where] == {}:\n",
    "                                            del cart[where]\n",
    "                                    \n",
    "                                    #otherwise, we update the quantity to the specified amount\n",
    "                                    else:\n",
    "                                        cart[where][what]['quantity'] = update_qty\n",
    "                                except:\n",
    "\n",
    "                                    #if they entered an invalid quantity (meaning not an integer)\n",
    "                                    print('invalid quantity')\n",
    "                            continue\n",
    "                    \n",
    "                    # since the item is new to the cart, we need to know \n",
    "                    # how much it costs and how many they want\n",
    "                    cost = float(input(\"How much does this item cost? $\"))\n",
    "                    qty = int(input(\"How many would you like to add? \"))\n",
    "                    \n",
    "                    # old print statement for debugging: print(where in cart.keys())\n",
    "\n",
    "                    # if the retailer already exists in the shopping list, we just want to add a new item\n",
    "                    if where in cart.keys():\n",
    "                        cart[where][what.lower()] = {\n",
    "                            'cost': cost,\n",
    "                            'quantity': qty\n",
    "                        }\n",
    "\n",
    "                    # otherwise, the retailer needs to be added as well as the item's information    \n",
    "                    else: \n",
    "                        cart[where] = {\n",
    "                            what.lower(): {\n",
    "                                'cost': cost,\n",
    "                                'quantity': qty\n",
    "                            },\n",
    "                        }\n",
    "\n",
    "                    # old print statement for debugging: print(cart)\n",
    "\n",
    "                except:\n",
    "                    clear_output(wait=False)\n",
    "                    print(\"I'm sorry, that wasn't a valid input\")\n",
    "            \n",
    "            # user chose to delete an item from the shopping list\n",
    "            else:\n",
    "                clear_output(wait=False)\n",
    "\n",
    "                # user needs to tell us what item to delete from which retailer\n",
    "                deletion = input('What would you like to delete? ')\n",
    "                retailer = input(f'From where would you like to delete {deletion} from?' ).title()\n",
    "\n",
    "                # we need to make sure that that item is actually in that retailer's list\n",
    "                if retailer in cart.keys():\n",
    "                    if deletion.lower() in cart[retailer].keys():\n",
    "\n",
    "                        # if it is we can delete it\n",
    "                        del cart[retailer][deletion]\n",
    "\n",
    "                        # and if there are no more items in that retailer's list, we can delete the retailer\n",
    "                        if cart[retailer] == {}:\n",
    "                            del cart[where]\n",
    "                        print(f'I have deleted \"{deletion}\" at {retailer} from your cart')\n",
    "                \n",
    "                # otherwise, we let the user know it's not in the list at that retailer\n",
    "                else:\n",
    "                    print(f'{deletion} at {retailer} is not already in your shopping cart')\n",
    "shopping_buddy()"
   ]
  }
 ],
 "metadata": {
  "kernelspec": {
   "display_name": "Python 3 (ipykernel)",
   "language": "python",
   "name": "python3"
  },
  "language_info": {
   "codemirror_mode": {
    "name": "ipython",
    "version": 3
   },
   "file_extension": ".py",
   "mimetype": "text/x-python",
   "name": "python",
   "nbconvert_exporter": "python",
   "pygments_lexer": "ipython3",
   "version": "3.10.11"
  }
 },
 "nbformat": 4,
 "nbformat_minor": 4
}
